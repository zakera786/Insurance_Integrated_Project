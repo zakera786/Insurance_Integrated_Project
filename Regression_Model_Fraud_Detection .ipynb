{
 "cells": [
  {
   "cell_type": "code",
   "execution_count": 1,
   "id": "5900d4d1",
   "metadata": {},
   "outputs": [],
   "source": [
    "import pandas as pd\n",
    "df = pd.read_excel('Insurance_Integrated_Project/insurance_claims_raw.xlsx')"
   ]
  },
  {
   "cell_type": "code",
   "execution_count": 2,
   "id": "6651b5b7",
   "metadata": {},
   "outputs": [
    {
     "name": "stdout",
     "output_type": "stream",
     "text": [
      "<class 'pandas.core.frame.DataFrame'>\n",
      "RangeIndex: 1000 entries, 0 to 999\n",
      "Data columns (total 40 columns):\n",
      " #   Column                       Non-Null Count  Dtype         \n",
      "---  ------                       --------------  -----         \n",
      " 0   months_as_customer           1000 non-null   int64         \n",
      " 1   age                          998 non-null    float64       \n",
      " 2   policy_number                1000 non-null   int64         \n",
      " 3   policy_bind_date             1000 non-null   datetime64[ns]\n",
      " 4   policy_state                 1000 non-null   object        \n",
      " 5   policy_csl                   1000 non-null   object        \n",
      " 6   policy_deductable            998 non-null    float64       \n",
      " 7   policy_annual_premium        997 non-null    float64       \n",
      " 8   umbrella_limit               1000 non-null   int64         \n",
      " 9   insured_zip                  1000 non-null   int64         \n",
      " 10  insured_sex                  1000 non-null   object        \n",
      " 11  insured_education_level      999 non-null    object        \n",
      " 12  insured_occupation           1000 non-null   object        \n",
      " 13  insured_hobbies              998 non-null    object        \n",
      " 14  insured_relationship         1000 non-null   object        \n",
      " 15  capital-gains                998 non-null    float64       \n",
      " 16  capital-loss                 1000 non-null   int64         \n",
      " 17  incident_date                1000 non-null   datetime64[ns]\n",
      " 18  incident_type                1000 non-null   object        \n",
      " 19  collision_type               1000 non-null   object        \n",
      " 20  incident_severity            1000 non-null   object        \n",
      " 21  authorities_contacted        998 non-null    object        \n",
      " 22  incident_state               998 non-null    object        \n",
      " 23  incident_city                1000 non-null   object        \n",
      " 24  incident_location            1000 non-null   object        \n",
      " 25  incident_hour_of_the_day     1000 non-null   int64         \n",
      " 26  number_of_vehicles_involved  1000 non-null   int64         \n",
      " 27  property_damage              1000 non-null   object        \n",
      " 28  bodily_injuries              1000 non-null   int64         \n",
      " 29  witnesses                    1000 non-null   int64         \n",
      " 30  police_report_available      1000 non-null   object        \n",
      " 31  total_claim_amount           996 non-null    float64       \n",
      " 32  injury_claim                 999 non-null    float64       \n",
      " 33  property_claim               999 non-null    float64       \n",
      " 34  vehicle_claim                1000 non-null   int64         \n",
      " 35  auto_make                    1000 non-null   object        \n",
      " 36  auto_model                   1000 non-null   object        \n",
      " 37  auto_year                    1000 non-null   int64         \n",
      " 38  fraud_reported               1000 non-null   object        \n",
      " 39  _c39                         0 non-null      float64       \n",
      "dtypes: datetime64[ns](2), float64(8), int64(11), object(19)\n",
      "memory usage: 312.6+ KB\n"
     ]
    }
   ],
   "source": [
    "df.info()"
   ]
  },
  {
   "cell_type": "code",
   "execution_count": 3,
   "id": "da10563a",
   "metadata": {},
   "outputs": [],
   "source": [
    "df = df.drop('_c39', axis=1)"
   ]
  },
  {
   "cell_type": "code",
   "execution_count": 4,
   "id": "44eb0551",
   "metadata": {},
   "outputs": [],
   "source": [
    "df = df[df['policy_number'] != 699044]"
   ]
  },
  {
   "cell_type": "code",
   "execution_count": 5,
   "id": "ef49389b",
   "metadata": {},
   "outputs": [
    {
     "data": {
      "text/html": [
       "<div>\n",
       "<style scoped>\n",
       "    .dataframe tbody tr th:only-of-type {\n",
       "        vertical-align: middle;\n",
       "    }\n",
       "\n",
       "    .dataframe tbody tr th {\n",
       "        vertical-align: top;\n",
       "    }\n",
       "\n",
       "    .dataframe thead th {\n",
       "        text-align: right;\n",
       "    }\n",
       "</style>\n",
       "<table border=\"1\" class=\"dataframe\">\n",
       "  <thead>\n",
       "    <tr style=\"text-align: right;\">\n",
       "      <th></th>\n",
       "      <th>months_as_customer</th>\n",
       "      <th>age</th>\n",
       "      <th>policy_number</th>\n",
       "      <th>policy_deductable</th>\n",
       "      <th>policy_annual_premium</th>\n",
       "      <th>umbrella_limit</th>\n",
       "      <th>insured_zip</th>\n",
       "      <th>capital-gains</th>\n",
       "      <th>capital-loss</th>\n",
       "      <th>incident_hour_of_the_day</th>\n",
       "      <th>number_of_vehicles_involved</th>\n",
       "      <th>bodily_injuries</th>\n",
       "      <th>witnesses</th>\n",
       "      <th>total_claim_amount</th>\n",
       "      <th>injury_claim</th>\n",
       "      <th>property_claim</th>\n",
       "      <th>vehicle_claim</th>\n",
       "      <th>auto_year</th>\n",
       "    </tr>\n",
       "  </thead>\n",
       "  <tbody>\n",
       "    <tr>\n",
       "      <th>count</th>\n",
       "      <td>999.000000</td>\n",
       "      <td>997.000000</td>\n",
       "      <td>999.000000</td>\n",
       "      <td>997.000000</td>\n",
       "      <td>996.000000</td>\n",
       "      <td>9.990000e+02</td>\n",
       "      <td>999.000000</td>\n",
       "      <td>998.000000</td>\n",
       "      <td>999.000000</td>\n",
       "      <td>999.000000</td>\n",
       "      <td>999.000000</td>\n",
       "      <td>999.000000</td>\n",
       "      <td>999.000000</td>\n",
       "      <td>995.000000</td>\n",
       "      <td>998.000000</td>\n",
       "      <td>998.000000</td>\n",
       "      <td>999.000000</td>\n",
       "      <td>999.000000</td>\n",
       "    </tr>\n",
       "    <tr>\n",
       "      <th>mean</th>\n",
       "      <td>204.150150</td>\n",
       "      <td>38.966901</td>\n",
       "      <td>546085.689690</td>\n",
       "      <td>1133.400201</td>\n",
       "      <td>1256.991155</td>\n",
       "      <td>1.102102e+06</td>\n",
       "      <td>501101.607608</td>\n",
       "      <td>25176.452906</td>\n",
       "      <td>-26820.520521</td>\n",
       "      <td>11.639640</td>\n",
       "      <td>1.837838</td>\n",
       "      <td>0.991992</td>\n",
       "      <td>1.485485</td>\n",
       "      <td>52748.643216</td>\n",
       "      <td>7425.861723</td>\n",
       "      <td>7395.020040</td>\n",
       "      <td>37922.872873</td>\n",
       "      <td>2005.102102</td>\n",
       "    </tr>\n",
       "    <tr>\n",
       "      <th>std</th>\n",
       "      <td>115.003509</td>\n",
       "      <td>9.139147</td>\n",
       "      <td>257146.228457</td>\n",
       "      <td>610.942531</td>\n",
       "      <td>244.387564</td>\n",
       "      <td>2.298293e+06</td>\n",
       "      <td>71648.570711</td>\n",
       "      <td>27877.379027</td>\n",
       "      <td>28105.366259</td>\n",
       "      <td>6.953486</td>\n",
       "      <td>1.018727</td>\n",
       "      <td>0.820538</td>\n",
       "      <td>1.110859</td>\n",
       "      <td>26411.938125</td>\n",
       "      <td>4877.155580</td>\n",
       "      <td>4828.122705</td>\n",
       "      <td>18894.734325</td>\n",
       "      <td>6.018807</td>\n",
       "    </tr>\n",
       "    <tr>\n",
       "      <th>min</th>\n",
       "      <td>0.000000</td>\n",
       "      <td>19.000000</td>\n",
       "      <td>100804.000000</td>\n",
       "      <td>500.000000</td>\n",
       "      <td>433.330000</td>\n",
       "      <td>-1.000000e+06</td>\n",
       "      <td>430104.000000</td>\n",
       "      <td>0.000000</td>\n",
       "      <td>-111100.000000</td>\n",
       "      <td>0.000000</td>\n",
       "      <td>1.000000</td>\n",
       "      <td>0.000000</td>\n",
       "      <td>0.000000</td>\n",
       "      <td>100.000000</td>\n",
       "      <td>0.000000</td>\n",
       "      <td>0.000000</td>\n",
       "      <td>70.000000</td>\n",
       "      <td>1995.000000</td>\n",
       "    </tr>\n",
       "    <tr>\n",
       "      <th>25%</th>\n",
       "      <td>116.000000</td>\n",
       "      <td>32.000000</td>\n",
       "      <td>335913.500000</td>\n",
       "      <td>500.000000</td>\n",
       "      <td>1090.247500</td>\n",
       "      <td>0.000000e+00</td>\n",
       "      <td>448373.000000</td>\n",
       "      <td>0.000000</td>\n",
       "      <td>-51500.000000</td>\n",
       "      <td>6.000000</td>\n",
       "      <td>1.000000</td>\n",
       "      <td>0.000000</td>\n",
       "      <td>1.000000</td>\n",
       "      <td>41775.000000</td>\n",
       "      <td>4285.000000</td>\n",
       "      <td>4435.000000</td>\n",
       "      <td>30275.000000</td>\n",
       "      <td>2000.000000</td>\n",
       "    </tr>\n",
       "    <tr>\n",
       "      <th>50%</th>\n",
       "      <td>200.000000</td>\n",
       "      <td>38.000000</td>\n",
       "      <td>532330.000000</td>\n",
       "      <td>1000.000000</td>\n",
       "      <td>1257.595000</td>\n",
       "      <td>0.000000e+00</td>\n",
       "      <td>466393.000000</td>\n",
       "      <td>0.000000</td>\n",
       "      <td>-24100.000000</td>\n",
       "      <td>12.000000</td>\n",
       "      <td>1.000000</td>\n",
       "      <td>1.000000</td>\n",
       "      <td>1.000000</td>\n",
       "      <td>57900.000000</td>\n",
       "      <td>6775.000000</td>\n",
       "      <td>6745.000000</td>\n",
       "      <td>42080.000000</td>\n",
       "      <td>2005.000000</td>\n",
       "    </tr>\n",
       "    <tr>\n",
       "      <th>75%</th>\n",
       "      <td>276.500000</td>\n",
       "      <td>44.000000</td>\n",
       "      <td>759459.500000</td>\n",
       "      <td>2000.000000</td>\n",
       "      <td>1415.825000</td>\n",
       "      <td>0.000000e+00</td>\n",
       "      <td>603221.500000</td>\n",
       "      <td>51075.000000</td>\n",
       "      <td>0.000000</td>\n",
       "      <td>17.000000</td>\n",
       "      <td>3.000000</td>\n",
       "      <td>2.000000</td>\n",
       "      <td>2.000000</td>\n",
       "      <td>70555.000000</td>\n",
       "      <td>11295.000000</td>\n",
       "      <td>10875.000000</td>\n",
       "      <td>50845.000000</td>\n",
       "      <td>2010.000000</td>\n",
       "    </tr>\n",
       "    <tr>\n",
       "      <th>max</th>\n",
       "      <td>479.000000</td>\n",
       "      <td>64.000000</td>\n",
       "      <td>999435.000000</td>\n",
       "      <td>2000.000000</td>\n",
       "      <td>2047.590000</td>\n",
       "      <td>1.000000e+07</td>\n",
       "      <td>620962.000000</td>\n",
       "      <td>100500.000000</td>\n",
       "      <td>0.000000</td>\n",
       "      <td>23.000000</td>\n",
       "      <td>4.000000</td>\n",
       "      <td>2.000000</td>\n",
       "      <td>3.000000</td>\n",
       "      <td>114920.000000</td>\n",
       "      <td>21450.000000</td>\n",
       "      <td>23670.000000</td>\n",
       "      <td>79560.000000</td>\n",
       "      <td>2015.000000</td>\n",
       "    </tr>\n",
       "  </tbody>\n",
       "</table>\n",
       "</div>"
      ],
      "text/plain": [
       "       months_as_customer         age  policy_number  policy_deductable  \\\n",
       "count          999.000000  997.000000     999.000000         997.000000   \n",
       "mean           204.150150   38.966901  546085.689690        1133.400201   \n",
       "std            115.003509    9.139147  257146.228457         610.942531   \n",
       "min              0.000000   19.000000  100804.000000         500.000000   \n",
       "25%            116.000000   32.000000  335913.500000         500.000000   \n",
       "50%            200.000000   38.000000  532330.000000        1000.000000   \n",
       "75%            276.500000   44.000000  759459.500000        2000.000000   \n",
       "max            479.000000   64.000000  999435.000000        2000.000000   \n",
       "\n",
       "       policy_annual_premium  umbrella_limit    insured_zip  capital-gains  \\\n",
       "count             996.000000    9.990000e+02     999.000000     998.000000   \n",
       "mean             1256.991155    1.102102e+06  501101.607608   25176.452906   \n",
       "std               244.387564    2.298293e+06   71648.570711   27877.379027   \n",
       "min               433.330000   -1.000000e+06  430104.000000       0.000000   \n",
       "25%              1090.247500    0.000000e+00  448373.000000       0.000000   \n",
       "50%              1257.595000    0.000000e+00  466393.000000       0.000000   \n",
       "75%              1415.825000    0.000000e+00  603221.500000   51075.000000   \n",
       "max              2047.590000    1.000000e+07  620962.000000  100500.000000   \n",
       "\n",
       "        capital-loss  incident_hour_of_the_day  number_of_vehicles_involved  \\\n",
       "count     999.000000                999.000000                   999.000000   \n",
       "mean   -26820.520521                 11.639640                     1.837838   \n",
       "std     28105.366259                  6.953486                     1.018727   \n",
       "min   -111100.000000                  0.000000                     1.000000   \n",
       "25%    -51500.000000                  6.000000                     1.000000   \n",
       "50%    -24100.000000                 12.000000                     1.000000   \n",
       "75%         0.000000                 17.000000                     3.000000   \n",
       "max         0.000000                 23.000000                     4.000000   \n",
       "\n",
       "       bodily_injuries   witnesses  total_claim_amount  injury_claim  \\\n",
       "count       999.000000  999.000000          995.000000    998.000000   \n",
       "mean          0.991992    1.485485        52748.643216   7425.861723   \n",
       "std           0.820538    1.110859        26411.938125   4877.155580   \n",
       "min           0.000000    0.000000          100.000000      0.000000   \n",
       "25%           0.000000    1.000000        41775.000000   4285.000000   \n",
       "50%           1.000000    1.000000        57900.000000   6775.000000   \n",
       "75%           2.000000    2.000000        70555.000000  11295.000000   \n",
       "max           2.000000    3.000000       114920.000000  21450.000000   \n",
       "\n",
       "       property_claim  vehicle_claim    auto_year  \n",
       "count      998.000000     999.000000   999.000000  \n",
       "mean      7395.020040   37922.872873  2005.102102  \n",
       "std       4828.122705   18894.734325     6.018807  \n",
       "min          0.000000      70.000000  1995.000000  \n",
       "25%       4435.000000   30275.000000  2000.000000  \n",
       "50%       6745.000000   42080.000000  2005.000000  \n",
       "75%      10875.000000   50845.000000  2010.000000  \n",
       "max      23670.000000   79560.000000  2015.000000  "
      ]
     },
     "execution_count": 5,
     "metadata": {},
     "output_type": "execute_result"
    }
   ],
   "source": [
    "df.describe()"
   ]
  },
  {
   "cell_type": "code",
   "execution_count": 6,
   "id": "3c668286",
   "metadata": {},
   "outputs": [],
   "source": [
    "average_age = df['age'].mean()\n",
    "df['age'] =df['age'].fillna(average_age)"
   ]
  },
  {
   "cell_type": "code",
   "execution_count": 7,
   "id": "92b96e93",
   "metadata": {},
   "outputs": [],
   "source": [
    "average_deductable = df['policy_deductable'].mean()\n",
    "df['policy_deductable'] =df['policy_deductable'].fillna(average_deductable)"
   ]
  },
  {
   "cell_type": "code",
   "execution_count": 8,
   "id": "e67e3e58",
   "metadata": {},
   "outputs": [],
   "source": [
    "average_annual_premium = df['policy_annual_premium'].mean()\n",
    "df['policy_annual_premium'] =df['policy_annual_premium'].fillna(average_annual_premium)"
   ]
  },
  {
   "cell_type": "code",
   "execution_count": 9,
   "id": "1f3da4d1",
   "metadata": {},
   "outputs": [
    {
     "name": "stdout",
     "output_type": "stream",
     "text": [
      "['MD' 'PhD' 'Associate' nan 'Masters' 'High School' 'College' 'JD']\n"
     ]
    }
   ],
   "source": [
    "unique_values = df['insured_education_level'].unique()\n",
    "print(unique_values)"
   ]
  },
  {
   "cell_type": "code",
   "execution_count": 10,
   "id": "b4a6097c",
   "metadata": {},
   "outputs": [],
   "source": [
    "df['insured_education_level'] = df['insured_education_level'].fillna('College')"
   ]
  },
  {
   "cell_type": "code",
   "execution_count": 11,
   "id": "3511aea0",
   "metadata": {},
   "outputs": [
    {
     "name": "stdout",
     "output_type": "stream",
     "text": [
      "['sleeping' 'reading' 'board-games' nan 'bungie-jumping' 'base-jumping'\n",
      " 'golf' 'camping' 'dancing' 'skydiving' 'movies' 'hiking' 'yachting'\n",
      " 'paintball' 'chess' 'kayaking' 'basketball' 'video-games' 'polo'\n",
      " 'cross-fit' 'exercise']\n"
     ]
    }
   ],
   "source": [
    "unique_values = df['insured_hobbies'].unique()\n",
    "print(unique_values)"
   ]
  },
  {
   "cell_type": "code",
   "execution_count": 12,
   "id": "f077d740",
   "metadata": {},
   "outputs": [],
   "source": [
    "df['insured_hobbies'] = df['insured_hobbies'].fillna('unknown')"
   ]
  },
  {
   "cell_type": "code",
   "execution_count": 13,
   "id": "2cf625f0",
   "metadata": {},
   "outputs": [],
   "source": [
    "average_capital = df['capital-gains'].mean()\n",
    "df['capital-gains'] =df['capital-gains'].fillna(average_capital)"
   ]
  },
  {
   "cell_type": "code",
   "execution_count": 14,
   "id": "5b47869f",
   "metadata": {},
   "outputs": [],
   "source": [
    "df['authorities_contacted'] = df['authorities_contacted'].fillna('unknown')"
   ]
  },
  {
   "cell_type": "code",
   "execution_count": 15,
   "id": "2689dc55",
   "metadata": {},
   "outputs": [],
   "source": [
    "df['incident_state'] = df['incident_state'].fillna('unknown')"
   ]
  },
  {
   "cell_type": "code",
   "execution_count": 16,
   "id": "a98aeea7",
   "metadata": {},
   "outputs": [],
   "source": [
    "average_amount = df['total_claim_amount'].mean()\n",
    "df['total_claim_amount'] =df['total_claim_amount'].fillna(average_amount)"
   ]
  },
  {
   "cell_type": "code",
   "execution_count": 17,
   "id": "45edf63f",
   "metadata": {},
   "outputs": [],
   "source": [
    "average_injury_claim = df['injury_claim'].mean()\n",
    "df['injury_claim'] =df['injury_claim'].fillna(average_injury_claim)"
   ]
  },
  {
   "cell_type": "code",
   "execution_count": 18,
   "id": "5645c334",
   "metadata": {},
   "outputs": [],
   "source": [
    "average_property_claim = df['property_claim'].mean()\n",
    "df['property_claim'] =df['property_claim'].fillna(average_property_claim)"
   ]
  },
  {
   "cell_type": "code",
   "execution_count": 19,
   "id": "b75077aa",
   "metadata": {},
   "outputs": [
    {
     "name": "stdout",
     "output_type": "stream",
     "text": [
      "<class 'pandas.core.frame.DataFrame'>\n",
      "Int64Index: 999 entries, 0 to 999\n",
      "Data columns (total 39 columns):\n",
      " #   Column                       Non-Null Count  Dtype         \n",
      "---  ------                       --------------  -----         \n",
      " 0   months_as_customer           999 non-null    int64         \n",
      " 1   age                          999 non-null    float64       \n",
      " 2   policy_number                999 non-null    int64         \n",
      " 3   policy_bind_date             999 non-null    datetime64[ns]\n",
      " 4   policy_state                 999 non-null    object        \n",
      " 5   policy_csl                   999 non-null    object        \n",
      " 6   policy_deductable            999 non-null    float64       \n",
      " 7   policy_annual_premium        999 non-null    float64       \n",
      " 8   umbrella_limit               999 non-null    int64         \n",
      " 9   insured_zip                  999 non-null    int64         \n",
      " 10  insured_sex                  999 non-null    object        \n",
      " 11  insured_education_level      999 non-null    object        \n",
      " 12  insured_occupation           999 non-null    object        \n",
      " 13  insured_hobbies              999 non-null    object        \n",
      " 14  insured_relationship         999 non-null    object        \n",
      " 15  capital-gains                999 non-null    float64       \n",
      " 16  capital-loss                 999 non-null    int64         \n",
      " 17  incident_date                999 non-null    datetime64[ns]\n",
      " 18  incident_type                999 non-null    object        \n",
      " 19  collision_type               999 non-null    object        \n",
      " 20  incident_severity            999 non-null    object        \n",
      " 21  authorities_contacted        999 non-null    object        \n",
      " 22  incident_state               999 non-null    object        \n",
      " 23  incident_city                999 non-null    object        \n",
      " 24  incident_location            999 non-null    object        \n",
      " 25  incident_hour_of_the_day     999 non-null    int64         \n",
      " 26  number_of_vehicles_involved  999 non-null    int64         \n",
      " 27  property_damage              999 non-null    object        \n",
      " 28  bodily_injuries              999 non-null    int64         \n",
      " 29  witnesses                    999 non-null    int64         \n",
      " 30  police_report_available      999 non-null    object        \n",
      " 31  total_claim_amount           999 non-null    float64       \n",
      " 32  injury_claim                 999 non-null    float64       \n",
      " 33  property_claim               999 non-null    float64       \n",
      " 34  vehicle_claim                999 non-null    int64         \n",
      " 35  auto_make                    999 non-null    object        \n",
      " 36  auto_model                   999 non-null    object        \n",
      " 37  auto_year                    999 non-null    int64         \n",
      " 38  fraud_reported               999 non-null    object        \n",
      "dtypes: datetime64[ns](2), float64(7), int64(11), object(19)\n",
      "memory usage: 312.2+ KB\n"
     ]
    }
   ],
   "source": [
    "df.info()"
   ]
  },
  {
   "cell_type": "code",
   "execution_count": 20,
   "id": "1a816de2",
   "metadata": {},
   "outputs": [],
   "source": [
    "bin_edges = [0, 30, 55, 100]  # Define the bin edges\n",
    "bin_labels = ['Young Adult', 'Middle Aged', 'Elderly']\n",
    "df['ages_category'] = pd.cut(df['age'], bins=bin_edges, labels=bin_labels)"
   ]
  },
  {
   "cell_type": "code",
   "execution_count": 21,
   "id": "0f3c3431",
   "metadata": {},
   "outputs": [],
   "source": [
    "bin_edges_customer = [0, 25, 150, 500]  # Define the bin edges\n",
    "bin_labels_customer = ['New Client', 'Established Client', 'Long-Term Client']  # Corresponding labels for each bin\n",
    "\n",
    "# Create a new column based on the bin labels\n",
    "df['customer_category'] = pd.cut(df['months_as_customer'], bins=bin_edges_customer, labels=bin_labels_customer)"
   ]
  },
  {
   "cell_type": "code",
   "execution_count": 22,
   "id": "51347807",
   "metadata": {},
   "outputs": [],
   "source": [
    "df['total_premiums_paid'] = (df['policy_annual_premium']/12) * df['months_as_customer']"
   ]
  },
  {
   "cell_type": "code",
   "execution_count": 23,
   "id": "5cd2656e",
   "metadata": {},
   "outputs": [],
   "source": [
    "df['net_value_of_customer'] = df['total_premiums_paid'] - df['total_claim_amount']"
   ]
  },
  {
   "cell_type": "code",
   "execution_count": 24,
   "id": "a3319f91",
   "metadata": {},
   "outputs": [],
   "source": [
    "df.to_csv('Cleaned_Insurance_Features.csv', index=False)"
   ]
  },
  {
   "cell_type": "code",
   "execution_count": 26,
   "id": "bf98c0ed",
   "metadata": {},
   "outputs": [],
   "source": [
    "df = df.drop(columns=['policy_number','policy_bind_date','policy_state', 'policy_csl','insured_zip','umbrella_limit','insured_relationship','capital-gains','capital-loss','incident_date','collision_type','authorities_contacted','incident_state','incident_city','incident_location','property_damage','bodily_injuries','injury_claim','property_claim','total_claim_amount'])"
   ]
  },
  {
   "cell_type": "code",
   "execution_count": 27,
   "id": "7cf47f90",
   "metadata": {},
   "outputs": [
    {
     "name": "stdout",
     "output_type": "stream",
     "text": [
      "<class 'pandas.core.frame.DataFrame'>\n",
      "Int64Index: 999 entries, 0 to 999\n",
      "Data columns (total 23 columns):\n",
      " #   Column                       Non-Null Count  Dtype   \n",
      "---  ------                       --------------  -----   \n",
      " 0   months_as_customer           999 non-null    int64   \n",
      " 1   age                          999 non-null    float64 \n",
      " 2   policy_deductable            999 non-null    float64 \n",
      " 3   policy_annual_premium        999 non-null    float64 \n",
      " 4   insured_sex                  999 non-null    object  \n",
      " 5   insured_education_level      999 non-null    object  \n",
      " 6   insured_occupation           999 non-null    object  \n",
      " 7   insured_hobbies              999 non-null    object  \n",
      " 8   incident_type                999 non-null    object  \n",
      " 9   incident_severity            999 non-null    object  \n",
      " 10  incident_hour_of_the_day     999 non-null    int64   \n",
      " 11  number_of_vehicles_involved  999 non-null    int64   \n",
      " 12  witnesses                    999 non-null    int64   \n",
      " 13  police_report_available      999 non-null    object  \n",
      " 14  vehicle_claim                999 non-null    int64   \n",
      " 15  auto_make                    999 non-null    object  \n",
      " 16  auto_model                   999 non-null    object  \n",
      " 17  auto_year                    999 non-null    int64   \n",
      " 18  fraud_reported               999 non-null    object  \n",
      " 19  ages_category                999 non-null    category\n",
      " 20  customer_category            998 non-null    category\n",
      " 21  total_premiums_paid          999 non-null    float64 \n",
      " 22  net_value_of_customer        999 non-null    float64 \n",
      "dtypes: category(2), float64(5), int64(6), object(10)\n",
      "memory usage: 173.9+ KB\n"
     ]
    }
   ],
   "source": [
    "df.info()"
   ]
  },
  {
   "cell_type": "code",
   "execution_count": 28,
   "id": "634be6ad",
   "metadata": {},
   "outputs": [],
   "source": [
    "import pandas as pd\n",
    "df['insured_sex'] = df['insured_sex'].replace({'Female':1,'Male':2})"
   ]
  },
  {
   "cell_type": "code",
   "execution_count": 29,
   "id": "f8e72881",
   "metadata": {},
   "outputs": [],
   "source": [
    "df['insured_education_level'] = df['insured_education_level'].replace({'Associate':1,'College':2, 'High School':3, 'JD' :4, 'Masters' :5, 'MD' :5, 'PHD' :6})"
   ]
  },
  {
   "cell_type": "code",
   "execution_count": 53,
   "id": "0f26e593",
   "metadata": {},
   "outputs": [],
   "source": [
    "df['insured_occupation'] = df['insured_occupation'].replace({'adm-clerical':1,'armed-forces':2, 'craft-repair':3, 'exec-managerial' :4, 'farming-fishing' :5, 'handlers-cleaners' :6, 'machine-op-inspct' :7, 'other-service':8, 'priv-house-serv':9, 'prof-specialty':10, 'protective-serv':11, 'sales':12, 'tech-support':13, 'transport-moving':14})"
   ]
  },
  {
   "cell_type": "code",
   "execution_count": 31,
   "id": "8c6ed274",
   "metadata": {},
   "outputs": [],
   "source": [
    "df['incident_type'] = df['incident_type'].replace({'Multi-vehicle Collision':1,'Parked Car':2, 'Single Vehicle Collision':3, 'Vehicle Theft':4})"
   ]
  },
  {
   "cell_type": "code",
   "execution_count": 33,
   "id": "1aa80272",
   "metadata": {},
   "outputs": [],
   "source": [
    "df['incident_severity'] = df['incident_severity'].replace({'Major Damage':1,'Minor Damage':2, 'Total Loss':3, 'Trivial Damage':4})"
   ]
  },
  {
   "cell_type": "code",
   "execution_count": 34,
   "id": "454c906d",
   "metadata": {},
   "outputs": [],
   "source": [
    "df['police_report_available'] = df['police_report_available'].replace({'Yes':1,'No':2})"
   ]
  },
  {
   "cell_type": "code",
   "execution_count": 35,
   "id": "df3e9e64",
   "metadata": {},
   "outputs": [],
   "source": [
    "df['fraud_reported'] = df['fraud_reported'].replace({'Yes':1,'No':2})"
   ]
  },
  {
   "cell_type": "code",
   "execution_count": 36,
   "id": "fdd244bb",
   "metadata": {},
   "outputs": [],
   "source": [
    "df['ages_category'] = df['ages_category'].replace({'Elderly':1,'Middle Aged':2, 'Young Adult':3})"
   ]
  },
  {
   "cell_type": "code",
   "execution_count": 37,
   "id": "47dcc083",
   "metadata": {},
   "outputs": [],
   "source": [
    "df['customer_category'] = df['customer_category'].replace({'Established Client':1,'Long-Term Client':2, 'New Client':3})"
   ]
  },
  {
   "cell_type": "code",
   "execution_count": 38,
   "id": "be84454c",
   "metadata": {},
   "outputs": [
    {
     "name": "stdout",
     "output_type": "stream",
     "text": [
      "<class 'pandas.core.frame.DataFrame'>\n",
      "Int64Index: 999 entries, 0 to 999\n",
      "Data columns (total 23 columns):\n",
      " #   Column                       Non-Null Count  Dtype   \n",
      "---  ------                       --------------  -----   \n",
      " 0   months_as_customer           999 non-null    int64   \n",
      " 1   age                          999 non-null    float64 \n",
      " 2   policy_deductable            999 non-null    float64 \n",
      " 3   policy_annual_premium        999 non-null    float64 \n",
      " 4   insured_sex                  999 non-null    object  \n",
      " 5   insured_education_level      999 non-null    object  \n",
      " 6   insured_occupation           999 non-null    int64   \n",
      " 7   insured_hobbies              999 non-null    object  \n",
      " 8   incident_type                999 non-null    int64   \n",
      " 9   incident_severity            999 non-null    int64   \n",
      " 10  incident_hour_of_the_day     999 non-null    int64   \n",
      " 11  number_of_vehicles_involved  999 non-null    int64   \n",
      " 12  witnesses                    999 non-null    int64   \n",
      " 13  police_report_available      999 non-null    object  \n",
      " 14  vehicle_claim                999 non-null    int64   \n",
      " 15  auto_make                    999 non-null    object  \n",
      " 16  auto_model                   999 non-null    object  \n",
      " 17  auto_year                    999 non-null    int64   \n",
      " 18  fraud_reported               999 non-null    object  \n",
      " 19  ages_category                999 non-null    category\n",
      " 20  customer_category            998 non-null    category\n",
      " 21  total_premiums_paid          999 non-null    float64 \n",
      " 22  net_value_of_customer        999 non-null    float64 \n",
      "dtypes: category(2), float64(5), int64(9), object(7)\n",
      "memory usage: 173.9+ KB\n"
     ]
    }
   ],
   "source": [
    "df.info()"
   ]
  },
  {
   "cell_type": "code",
   "execution_count": 39,
   "id": "06cacbdf",
   "metadata": {},
   "outputs": [
    {
     "name": "stdout",
     "output_type": "stream",
     "text": [
      "['MALE' 'FEMALE']\n"
     ]
    }
   ],
   "source": [
    "unique_sex = df['insured_sex'].unique()\n",
    "print(unique_sex)"
   ]
  },
  {
   "cell_type": "code",
   "execution_count": 42,
   "id": "0f2f07fa",
   "metadata": {},
   "outputs": [],
   "source": [
    "df['insured_sex'] = df['insured_sex'].replace({'FEMALE':1,'MALE':2})"
   ]
  },
  {
   "cell_type": "code",
   "execution_count": 43,
   "id": "a7b40f50",
   "metadata": {},
   "outputs": [
    {
     "name": "stdout",
     "output_type": "stream",
     "text": [
      "[2 1]\n"
     ]
    }
   ],
   "source": [
    "unique_sex = df['insured_sex'].unique()\n",
    "print(unique_sex)"
   ]
  },
  {
   "cell_type": "code",
   "execution_count": 44,
   "id": "45634407",
   "metadata": {},
   "outputs": [
    {
     "name": "stdout",
     "output_type": "stream",
     "text": [
      "[5 'PhD' 1 2 3 4]\n"
     ]
    }
   ],
   "source": [
    "unique_edu = df['insured_education_level'].unique()\n",
    "print(unique_edu)"
   ]
  },
  {
   "cell_type": "code",
   "execution_count": 45,
   "id": "a6764de1",
   "metadata": {},
   "outputs": [],
   "source": [
    "df['insured_education_level'] = df['insured_education_level'].replace({'Associate':1,'College':2, 'High School':3, 'JD' :4, 'Masters' :5, 'MD' :5, 'PhD' :6})"
   ]
  },
  {
   "cell_type": "code",
   "execution_count": 46,
   "id": "a5008972",
   "metadata": {},
   "outputs": [
    {
     "name": "stdout",
     "output_type": "stream",
     "text": [
      "[5 6 1 2 3 4]\n"
     ]
    }
   ],
   "source": [
    "unique_edu = df['insured_education_level'].unique()\n",
    "print(unique_edu)"
   ]
  },
  {
   "cell_type": "code",
   "execution_count": 47,
   "id": "42ac5d16",
   "metadata": {},
   "outputs": [
    {
     "name": "stdout",
     "output_type": "stream",
     "text": [
      "['sleeping' 'reading' 'board-games' 'unknown' 'bungie-jumping'\n",
      " 'base-jumping' 'golf' 'camping' 'dancing' 'skydiving' 'movies' 'hiking'\n",
      " 'yachting' 'paintball' 'chess' 'kayaking' 'basketball' 'video-games'\n",
      " 'polo' 'cross-fit' 'exercise']\n"
     ]
    }
   ],
   "source": [
    "unique_hob = df['insured_hobbies'].unique()\n",
    "print(unique_hob)"
   ]
  },
  {
   "cell_type": "code",
   "execution_count": 51,
   "id": "94b4e3cf",
   "metadata": {},
   "outputs": [],
   "source": [
    "df['insured_hobbies'] = df['insured_hobbies'].replace({'sleeping':1,'reading':2, 'board-games':3, 'unknown':4, 'bungie-jumping':5, 'base-jumping':6, 'golf':7, 'camping':8, 'dancing':9, 'skydiving':10, 'movies':11, 'hiking':12, 'yachting':13, 'paintball':14, 'chess':15, 'kayaking':16, 'basketball' :17, 'video-games':18, 'polo':19, 'cross-fit':20, 'exercise':21})"
   ]
  },
  {
   "cell_type": "code",
   "execution_count": 52,
   "id": "5fdf83bc",
   "metadata": {},
   "outputs": [
    {
     "name": "stdout",
     "output_type": "stream",
     "text": [
      "[ 1  2  3  4  5  6  7  8  9 10 11 12 13 14 15 16 17 18 19 20 21]\n"
     ]
    }
   ],
   "source": [
    "unique_hob = df['insured_hobbies'].unique()\n",
    "print(unique_hob)"
   ]
  },
  {
   "cell_type": "code",
   "execution_count": 54,
   "id": "be61b287",
   "metadata": {},
   "outputs": [
    {
     "name": "stdout",
     "output_type": "stream",
     "text": [
      "['YES' '?' 'NO']\n"
     ]
    }
   ],
   "source": [
    "unique_report = df['police_report_available'].unique()\n",
    "print(unique_report)"
   ]
  },
  {
   "cell_type": "code",
   "execution_count": 57,
   "id": "963eacdf",
   "metadata": {},
   "outputs": [],
   "source": [
    "df['police_report_available'] = df['police_report_available'].replace({'YES':1,'NO':2, '?':3})"
   ]
  },
  {
   "cell_type": "code",
   "execution_count": 58,
   "id": "68d64493",
   "metadata": {},
   "outputs": [
    {
     "name": "stdout",
     "output_type": "stream",
     "text": [
      "[1 3 2]\n"
     ]
    }
   ],
   "source": [
    "unique_report = df['police_report_available'].unique()\n",
    "print(unique_report)"
   ]
  },
  {
   "cell_type": "code",
   "execution_count": 59,
   "id": "b8cef842",
   "metadata": {},
   "outputs": [
    {
     "name": "stdout",
     "output_type": "stream",
     "text": [
      "['Saab' 'Mercedes' 'Dodge' 'Chevrolet' 'Accura' 'Nissan' 'Audi' 'Toyota'\n",
      " 'Ford' 'Suburu' 'BMW' 'Jeep' 'Honda' 'Volkswagen']\n"
     ]
    }
   ],
   "source": [
    "unique_make = df['auto_make'].unique()\n",
    "print(unique_make)"
   ]
  },
  {
   "cell_type": "code",
   "execution_count": 63,
   "id": "ef73d079",
   "metadata": {},
   "outputs": [],
   "source": [
    "df['auto_make'] = df['auto_make'].replace({'Saab':1,'Mercedes':2, 'Dodge':3, 'Chevrolet':4, 'Accura':5, 'Nissan':6, 'Audi':7, 'Toyota':8,'Ford':9, 'Suburu':10, 'BMW':11, 'Jeep':12, 'Honda':13, 'Volkswagen':14})"
   ]
  },
  {
   "cell_type": "code",
   "execution_count": 64,
   "id": "e258d30f",
   "metadata": {},
   "outputs": [
    {
     "name": "stdout",
     "output_type": "stream",
     "text": [
      "[ 1  2  3  4  5  6  7  8  9 10 11 12 13 14]\n"
     ]
    }
   ],
   "source": [
    "unique_make = df['auto_make'].unique()\n",
    "print(unique_make)"
   ]
  },
  {
   "cell_type": "code",
   "execution_count": 65,
   "id": "6bba87df",
   "metadata": {},
   "outputs": [
    {
     "name": "stdout",
     "output_type": "stream",
     "text": [
      "['92x' 'E400' 'RAM' 'Tahoe' 'RSX' 95 'Pathfinder' 'A5' 'Camry' 'F150' 'A3'\n",
      " 'Highlander' 'Neon' 'MDX' 'Maxima' 'Legacy' 'TL' 'Impreza' 'Forrestor'\n",
      " 'Escape' 'Corolla' '3 Series' 'C300' 'Wrangler' 'M5' 'X5' 'Civic'\n",
      " 'Passat' 'Silverado' 'CRV' 93 'Accord' 'X6' 'Malibu' 'Fusion' 'Jetta'\n",
      " 'ML350' 'Ultima' 'Grand Cherokee']\n"
     ]
    }
   ],
   "source": [
    "unique_model = df['auto_model'].unique()\n",
    "print(unique_model)"
   ]
  },
  {
   "cell_type": "code",
   "execution_count": 66,
   "id": "6c010df0",
   "metadata": {},
   "outputs": [],
   "source": [
    "df = df.drop('auto_model', axis=1)"
   ]
  },
  {
   "cell_type": "code",
   "execution_count": 67,
   "id": "ac243f2d",
   "metadata": {},
   "outputs": [
    {
     "name": "stdout",
     "output_type": "stream",
     "text": [
      "['Y' 'N']\n"
     ]
    }
   ],
   "source": [
    "unique_reported = df['fraud_reported'].unique()\n",
    "print(unique_reported)"
   ]
  },
  {
   "cell_type": "code",
   "execution_count": 68,
   "id": "2b03d571",
   "metadata": {},
   "outputs": [],
   "source": [
    "df['fraud_reported'] = df['fraud_reported'].replace({'Y':1,'N':2})"
   ]
  },
  {
   "cell_type": "code",
   "execution_count": 69,
   "id": "760bd5ea",
   "metadata": {},
   "outputs": [
    {
     "name": "stdout",
     "output_type": "stream",
     "text": [
      "[1 2]\n"
     ]
    }
   ],
   "source": [
    "unique_reported = df['fraud_reported'].unique()\n",
    "print(unique_reported)"
   ]
  },
  {
   "cell_type": "code",
   "execution_count": 70,
   "id": "d73491e9",
   "metadata": {},
   "outputs": [
    {
     "name": "stdout",
     "output_type": "stream",
     "text": [
      "[2, 3, 1]\n",
      "Categories (3, int64): [3 < 2 < 1]\n"
     ]
    }
   ],
   "source": [
    "unique_agesC = df['ages_category'].unique()\n",
    "print(unique_agesC)"
   ]
  },
  {
   "cell_type": "code",
   "execution_count": 71,
   "id": "1e1e6c72",
   "metadata": {},
   "outputs": [],
   "source": [
    "df['ages_category'] = df['ages_category'].cat.codes"
   ]
  },
  {
   "cell_type": "code",
   "execution_count": 72,
   "id": "16b4abec",
   "metadata": {},
   "outputs": [
    {
     "name": "stdout",
     "output_type": "stream",
     "text": [
      "[1 0 2]\n"
     ]
    }
   ],
   "source": [
    "unique_agesC = df['ages_category'].unique()\n",
    "print(unique_agesC)"
   ]
  },
  {
   "cell_type": "code",
   "execution_count": 73,
   "id": "21a1365d",
   "metadata": {},
   "outputs": [
    {
     "name": "stdout",
     "output_type": "stream",
     "text": [
      "[2, 1, 3, NaN]\n",
      "Categories (3, int64): [3 < 1 < 2]\n"
     ]
    }
   ],
   "source": [
    "unique_custC = df['customer_category'].unique()\n",
    "print(unique_custC)"
   ]
  },
  {
   "cell_type": "code",
   "execution_count": 74,
   "id": "18dc3d67",
   "metadata": {},
   "outputs": [],
   "source": [
    "df['customer_category'] = df['customer_category'].cat.codes"
   ]
  },
  {
   "cell_type": "code",
   "execution_count": 75,
   "id": "cab2e312",
   "metadata": {},
   "outputs": [
    {
     "name": "stdout",
     "output_type": "stream",
     "text": [
      "[ 2  1  0 -1]\n"
     ]
    }
   ],
   "source": [
    "unique_custC = df['customer_category'].unique()\n",
    "print(unique_custC)"
   ]
  },
  {
   "cell_type": "code",
   "execution_count": 76,
   "id": "a6c47cd3",
   "metadata": {},
   "outputs": [
    {
     "name": "stdout",
     "output_type": "stream",
     "text": [
      "<class 'pandas.core.frame.DataFrame'>\n",
      "Int64Index: 999 entries, 0 to 999\n",
      "Data columns (total 22 columns):\n",
      " #   Column                       Non-Null Count  Dtype  \n",
      "---  ------                       --------------  -----  \n",
      " 0   months_as_customer           999 non-null    int64  \n",
      " 1   age                          999 non-null    float64\n",
      " 2   policy_deductable            999 non-null    float64\n",
      " 3   policy_annual_premium        999 non-null    float64\n",
      " 4   insured_sex                  999 non-null    int64  \n",
      " 5   insured_education_level      999 non-null    int64  \n",
      " 6   insured_occupation           999 non-null    int64  \n",
      " 7   insured_hobbies              999 non-null    int64  \n",
      " 8   incident_type                999 non-null    int64  \n",
      " 9   incident_severity            999 non-null    int64  \n",
      " 10  incident_hour_of_the_day     999 non-null    int64  \n",
      " 11  number_of_vehicles_involved  999 non-null    int64  \n",
      " 12  witnesses                    999 non-null    int64  \n",
      " 13  police_report_available      999 non-null    int64  \n",
      " 14  vehicle_claim                999 non-null    int64  \n",
      " 15  auto_make                    999 non-null    int64  \n",
      " 16  auto_year                    999 non-null    int64  \n",
      " 17  fraud_reported               999 non-null    int64  \n",
      " 18  ages_category                999 non-null    int8   \n",
      " 19  customer_category            999 non-null    int8   \n",
      " 20  total_premiums_paid          999 non-null    float64\n",
      " 21  net_value_of_customer        999 non-null    float64\n",
      "dtypes: float64(5), int64(15), int8(2)\n",
      "memory usage: 165.8 KB\n"
     ]
    }
   ],
   "source": [
    "df.info()"
   ]
  },
  {
   "cell_type": "code",
   "execution_count": 77,
   "id": "b4cf1e59",
   "metadata": {},
   "outputs": [
    {
     "name": "stdout",
     "output_type": "stream",
     "text": [
      "False\n"
     ]
    }
   ],
   "source": [
    "print(df.isna().any().any())"
   ]
  },
  {
   "cell_type": "code",
   "execution_count": 83,
   "id": "bf319399",
   "metadata": {},
   "outputs": [],
   "source": [
    "# split data\n",
    "# Split the dataset into the response, y, and features, X\n",
    "y = df['fraud_reported']\n",
    "X = df.drop('fraud_reported', axis=1)"
   ]
  },
  {
   "cell_type": "code",
   "execution_count": 84,
   "id": "b38df076",
   "metadata": {},
   "outputs": [],
   "source": [
    "from sklearn.model_selection import train_test_split\n",
    "#Separating our models into training set and testing set\n",
    "X_train, X_test, y_train, y_test = train_test_split(X, y, test_size=0.2, random_state=42)"
   ]
  },
  {
   "cell_type": "code",
   "execution_count": 85,
   "id": "fbd1975a",
   "metadata": {},
   "outputs": [
    {
     "name": "stdout",
     "output_type": "stream",
     "text": [
      "Training predictor: (799, 21)\n",
      "Training target: (799,)\n",
      "Testing predictor: (200, 21)\n",
      "Testing target: (200,)\n"
     ]
    }
   ],
   "source": [
    "# create targets and features dataset\n",
    "print('Training predictor:', X_train.shape)\n",
    "print('Training target:', y_train.shape)\n",
    "print('Testing predictor:', X_test.shape)\n",
    "print('Testing target:', y_test.shape)"
   ]
  },
  {
   "cell_type": "code",
   "execution_count": 86,
   "id": "3a846957",
   "metadata": {},
   "outputs": [],
   "source": [
    "import numpy as np\n",
    "from sklearn.ensemble import RandomForestRegressor\n",
    "# Train a Random Forest Regressor\n",
    "rf = RandomForestRegressor()\n",
    "rf.fit(X_train, y_train)\n",
    "# Get feature importances\n",
    "feature_importances = rf.feature_importances_\n",
    "\n",
    "# Sort feature importances in descending order\n",
    "indices = np.argsort(feature_importances)[::-1]\n",
    "\n",
    "# Select the top N features\n",
    "top_n = 15  # Number of top features to select\n",
    "selected_features = X_train.columns[indices[:top_n]]\n",
    "\n",
    "# Rebuild the model with selected features\n",
    "X_train_selected = X_train[selected_features]\n",
    "rf_selected = RandomForestRegressor()\n",
    "rf_selected.fit(X_train_selected, y_train)\n",
    "\n",
    "# Evaluate the model with selected features\n",
    "\n",
    "X_test_selected = X_test[selected_features]\n",
    "y_pred_selected = rf_selected.predict(X_test_selected)\n",
    "\n",
    "# Evaluate model performance\n",
    "# Compare rf_selected performance with rf (the original model)"
   ]
  },
  {
   "cell_type": "code",
   "execution_count": 89,
   "id": "79dc5426",
   "metadata": {},
   "outputs": [
    {
     "name": "stdout",
     "output_type": "stream",
     "text": [
      "Mean Absolute Error: 0.225\n",
      "Mean Squared Error: 0.109273\n",
      "Root Mean Squared Error: 0.3305646684084674\n",
      "R-squared: 0.40091557017543855\n"
     ]
    }
   ],
   "source": [
    "from sklearn.metrics import mean_absolute_error, mean_squared_error, r2_score\n",
    "\n",
    "# Calculate MAE\n",
    "mae = mean_absolute_error(y_test, y_pred_selected)\n",
    "\n",
    "# Calculate MSE\n",
    "mse = mean_squared_error(y_test, y_pred_selected)\n",
    "\n",
    "# Calculate RMSE\n",
    "rmse = np.sqrt(mse)\n",
    "\n",
    "# Calculate R-squared\n",
    "r2 = r2_score(y_test, y_pred_selected)\n",
    "\n",
    "print(\"Mean Absolute Error:\", mae)\n",
    "print(\"Mean Squared Error:\", mse)\n",
    "print(\"Root Mean Squared Error:\", rmse)\n",
    "print(\"R-squared:\", r2)\n",
    "\n"
   ]
  },
  {
   "cell_type": "code",
   "execution_count": null,
   "id": "1f8bc2d5",
   "metadata": {},
   "outputs": [],
   "source": []
  }
 ],
 "metadata": {
  "kernelspec": {
   "display_name": "Python 3 (ipykernel)",
   "language": "python",
   "name": "python3"
  },
  "language_info": {
   "codemirror_mode": {
    "name": "ipython",
    "version": 3
   },
   "file_extension": ".py",
   "mimetype": "text/x-python",
   "name": "python",
   "nbconvert_exporter": "python",
   "pygments_lexer": "ipython3",
   "version": "3.11.4"
  }
 },
 "nbformat": 4,
 "nbformat_minor": 5
}
